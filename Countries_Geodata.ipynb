{
  "cells": [
    {
      "cell_type": "markdown",
      "metadata": {
        "id": "view-in-github",
        "colab_type": "text"
      },
      "source": [
        "<a href=\"https://colab.research.google.com/github/Adbe-El/Data-Analysis/blob/master/Countries_Geodata.ipynb\" target=\"_parent\"><img src=\"https://colab.research.google.com/assets/colab-badge.svg\" alt=\"Open In Colab\"/></a>"
      ]
    },
    {
      "cell_type": "code",
      "execution_count": null,
      "metadata": {
        "id": "UBRmcqqUdRIy"
      },
      "outputs": [],
      "source": [
        "#Load EDA pkgs\n",
        "import pandas as pd\n",
        "import numpy as np"
      ]
    },
    {
      "cell_type": "code",
      "execution_count": null,
      "metadata": {
        "id": "9F589fLedRJo"
      },
      "outputs": [],
      "source": [
        "#Load Visualisations\n",
        "import matplotlib.pyplot as plt\n",
        "import seaborn as sns\n",
        "%matplotlib inline"
      ]
    },
    {
      "cell_type": "code",
      "execution_count": null,
      "metadata": {
        "id": "bBPrRda6dRJw"
      },
      "outputs": [],
      "source": [
        "# Load dataset\n",
        "df = pd.read_csv('countries_geodata.csv', sep='\\t')"
      ]
    },
    {
      "cell_type": "code",
      "execution_count": null,
      "metadata": {
        "colab": {
          "base_uri": "https://localhost:8080/",
          "height": 206
        },
        "id": "JoD21t91dRJ3",
        "outputId": "487c0cc9-e854-4b3a-dcc0-45609cfa87e7"
      },
      "outputs": [
        {
          "data": {
            "text/html": [
              "<div>\n",
              "<style scoped>\n",
              "    .dataframe tbody tr th:only-of-type {\n",
              "        vertical-align: middle;\n",
              "    }\n",
              "\n",
              "    .dataframe tbody tr th {\n",
              "        vertical-align: top;\n",
              "    }\n",
              "\n",
              "    .dataframe thead th {\n",
              "        text-align: right;\n",
              "    }\n",
              "</style>\n",
              "<table border=\"1\" class=\"dataframe\">\n",
              "  <thead>\n",
              "    <tr style=\"text-align: right;\">\n",
              "      <th></th>\n",
              "      <th>country</th>\n",
              "      <th>latitude</th>\n",
              "      <th>longitude</th>\n",
              "      <th>name</th>\n",
              "    </tr>\n",
              "  </thead>\n",
              "  <tbody>\n",
              "    <tr>\n",
              "      <th>0</th>\n",
              "      <td>AD</td>\n",
              "      <td>42.546245</td>\n",
              "      <td>1.601554</td>\n",
              "      <td>Andorra</td>\n",
              "    </tr>\n",
              "    <tr>\n",
              "      <th>1</th>\n",
              "      <td>AE</td>\n",
              "      <td>23.424076</td>\n",
              "      <td>53.847818</td>\n",
              "      <td>United Arab Emirates</td>\n",
              "    </tr>\n",
              "    <tr>\n",
              "      <th>2</th>\n",
              "      <td>AF</td>\n",
              "      <td>33.939110</td>\n",
              "      <td>67.709953</td>\n",
              "      <td>Afghanistan</td>\n",
              "    </tr>\n",
              "    <tr>\n",
              "      <th>3</th>\n",
              "      <td>AG</td>\n",
              "      <td>17.060816</td>\n",
              "      <td>-61.796428</td>\n",
              "      <td>Antigua and Barbuda</td>\n",
              "    </tr>\n",
              "    <tr>\n",
              "      <th>4</th>\n",
              "      <td>AI</td>\n",
              "      <td>18.220554</td>\n",
              "      <td>-63.068615</td>\n",
              "      <td>Anguilla</td>\n",
              "    </tr>\n",
              "  </tbody>\n",
              "</table>\n",
              "</div>"
            ],
            "text/plain": [
              "  country   latitude  longitude                  name\n",
              "0      AD  42.546245   1.601554               Andorra\n",
              "1      AE  23.424076  53.847818  United Arab Emirates\n",
              "2      AF  33.939110  67.709953           Afghanistan\n",
              "3      AG  17.060816 -61.796428   Antigua and Barbuda\n",
              "4      AI  18.220554 -63.068615              Anguilla"
            ]
          },
          "execution_count": 4,
          "metadata": {
            "tags": []
          },
          "output_type": "execute_result"
        }
      ],
      "source": [
        "df.head()"
      ]
    },
    {
      "cell_type": "code",
      "execution_count": null,
      "metadata": {
        "id": "UZZWzb6JdRKD"
      },
      "outputs": [],
      "source": [
        "# Save as csv\n",
        "df.to_csv('countries_data.csv')"
      ]
    },
    {
      "cell_type": "code",
      "execution_count": null,
      "metadata": {
        "colab": {
          "base_uri": "https://localhost:8080/"
        },
        "id": "9Vlwmd6HdRKH",
        "outputId": "218cbbe5-ffd5-4249-cf83-ae78f91e91a3"
      },
      "outputs": [
        {
          "data": {
            "text/plain": [
              "country       object\n",
              "latitude     float64\n",
              "longitude    float64\n",
              "name          object\n",
              "dtype: object"
            ]
          },
          "execution_count": 6,
          "metadata": {
            "tags": []
          },
          "output_type": "execute_result"
        }
      ],
      "source": [
        "# Check For Dtypes\n",
        "df.dtypes"
      ]
    },
    {
      "cell_type": "code",
      "execution_count": null,
      "metadata": {
        "colab": {
          "base_uri": "https://localhost:8080/"
        },
        "id": "szfNGD-wdRKR",
        "outputId": "15c588cf-0b2d-4812-b131-bd4469403f8e"
      },
      "outputs": [
        {
          "data": {
            "text/plain": [
              "country      1\n",
              "latitude     1\n",
              "longitude    1\n",
              "name         0\n",
              "dtype: int64"
            ]
          },
          "execution_count": 7,
          "metadata": {
            "tags": []
          },
          "output_type": "execute_result"
        }
      ],
      "source": [
        "#Check for missing values\n",
        "df.isnull().sum()"
      ]
    },
    {
      "cell_type": "code",
      "execution_count": null,
      "metadata": {
        "id": "_MNL1MEedRKW"
      },
      "outputs": [],
      "source": [
        "# Drop Na\n",
        "df.dropna(inplace=True)"
      ]
    },
    {
      "cell_type": "code",
      "execution_count": null,
      "metadata": {
        "colab": {
          "base_uri": "https://localhost:8080/"
        },
        "id": "Ib-kFm26dRKZ",
        "outputId": "8032ca05-c0fe-4f42-b521-2385f21b3f85"
      },
      "outputs": [
        {
          "data": {
            "text/plain": [
              "Index(['country', 'latitude', 'longitude', 'name'], dtype='object')"
            ]
          },
          "execution_count": 9,
          "metadata": {
            "tags": []
          },
          "output_type": "execute_result"
        }
      ],
      "source": [
        "# Columns Consistency\n",
        "df.columns"
      ]
    },
    {
      "cell_type": "code",
      "execution_count": null,
      "metadata": {
        "colab": {
          "base_uri": "https://localhost:8080/"
        },
        "id": "qznP7bE5dRKf",
        "outputId": "7f509f4e-f21b-4149-edd8-9f2ffb441f43"
      },
      "outputs": [
        {
          "data": {
            "text/plain": [
              "(243, 4)"
            ]
          },
          "execution_count": 10,
          "metadata": {
            "tags": []
          },
          "output_type": "execute_result"
        }
      ],
      "source": [
        "# Check For Countries\n",
        "df.shape"
      ]
    },
    {
      "cell_type": "code",
      "execution_count": null,
      "metadata": {
        "colab": {
          "base_uri": "https://localhost:8080/",
          "height": 283
        },
        "id": "Gtw7RQNcdRKl",
        "outputId": "5783c7bd-a2fc-4bdb-8b22-5d22ac8320bf"
      },
      "outputs": [
        {
          "data": {
            "text/plain": [
              "<matplotlib.collections.PathCollection at 0x7fba3c085b90>"
            ]
          },
          "execution_count": 11,
          "metadata": {
            "tags": []
          },
          "output_type": "execute_result"
        },
        {
          "data": {
            "image/png": "[encoded data removed]",
            "text/plain": [
              "<Figure size 432x288 with 1 Axes>"
            ]
          },
          "metadata": {
            "tags": []
          },
          "output_type": "display_data"
        }
      ],
      "source": [
        "# Plot of our countries\n",
        "plt.scatter(df['longitude'], df['latitude'])"
      ]
    },
    {
      "cell_type": "markdown",
      "metadata": {
        "id": "BgrjT0s_dRKx"
      },
      "source": [
        "## Working with Kmeans"
      ]
    },
    {
      "cell_type": "code",
      "execution_count": null,
      "metadata": {
        "id": "7oCNoEdkdRK0"
      },
      "outputs": [],
      "source": [
        "from sklearn.cluster import KMeans"
      ]
    },
    {
      "cell_type": "code",
      "execution_count": null,
      "metadata": {
        "id": "Xu_WRaUcdRK2"
      },
      "outputs": [],
      "source": [
        "# By Assumption we know we have 7 continents\n",
        "# k = 7\n",
        "\n",
        "km = KMeans(n_clusters = 7)"
      ]
    },
    {
      "cell_type": "code",
      "execution_count": null,
      "metadata": {
        "id": "fjTpwFCrdRK4"
      },
      "outputs": [],
      "source": [
        "# Prep\n",
        "xfeatures = df[['longitude', 'latitude']]"
      ]
    },
    {
      "cell_type": "code",
      "execution_count": null,
      "metadata": {
        "id": "GSWFN9TWdRK7"
      },
      "outputs": [],
      "source": [
        "# Fitting and Predicting\n",
        "clusters = km.fit_predict(xfeatures)"
      ]
    },
    {
      "cell_type": "code",
      "execution_count": null,
      "metadata": {
        "colab": {
          "base_uri": "https://localhost:8080/"
        },
        "collapsed": true,
        "id": "NLZ1Fg52dRK9",
        "outputId": "6309a024-a138-44e1-c08d-b4cef57551f5"
      },
      "outputs": [
        {
          "data": {
            "text/plain": [
              "array([6, 1, 1, 0, 0, 6, 1, 0, 5, 5, 0, 4, 6, 2, 0, 1, 6, 0, 3, 6, 5, 6,\n",
              "       1, 5, 5, 0, 3, 0, 0, 0, 3, 5, 5, 6, 0, 0, 3, 5, 5, 5, 6, 5, 4, 0,\n",
              "       5, 3, 0, 0, 0, 6, 3, 1, 6, 6, 1, 6, 0, 0, 6, 0, 6, 1, 6, 1, 6, 1,\n",
              "       6, 2, 0, 2, 6, 6, 5, 6, 0, 1, 0, 6, 5, 6, 6, 6, 5, 0, 5, 6, 5, 0,\n",
              "       2, 6, 0, 1, 3, 5, 0, 6, 0, 6, 3, 6, 1, 6, 3, 3, 1, 1, 6, 6, 6, 0,\n",
              "       1, 3, 5, 1, 3, 4, 5, 0, 3, 3, 1, 0, 1, 3, 1, 0, 6, 3, 5, 5, 6, 6,\n",
              "       6, 6, 6, 6, 6, 6, 5, 2, 6, 6, 3, 3, 3, 2, 0, 6, 0, 6, 5, 3, 5, 0,\n",
              "       3, 5, 2, 6, 2, 5, 0, 6, 6, 3, 2, 4, 2, 1, 0, 0, 4, 2, 3, 1, 6, 0,\n",
              "       4, 0, 1, 6, 2, 0, 1, 5, 6, 6, 3, 5, 1, 2, 1, 1, 6, 3, 5, 6, 6, 6,\n",
              "       5, 6, 6, 1, 0, 5, 0, 1, 5, 0, 5, 5, 5, 3, 1, 4, 2, 1, 6, 4, 1, 0,\n",
              "       2, 3, 5, 6, 5, 0, 0, 1, 6, 0, 0, 0, 0, 3, 2, 4, 4, 6, 1, 5, 5, 5,\n",
              "       5], dtype=int32)"
            ]
          },
          "execution_count": 16,
          "metadata": {
            "tags": []
          },
          "output_type": "execute_result"
        }
      ],
      "source": [
        "# Get all the Labels(Clusters)\n",
        "km.labels_"
      ]
    },
    {
      "cell_type": "code",
      "execution_count": null,
      "metadata": {
        "colab": {
          "base_uri": "https://localhost:8080/"
        },
        "collapsed": true,
        "id": "K748xocodRLD",
        "outputId": "8988bac0-1281-49a1-ae07-3aca9688cbab"
      },
      "outputs": [
        {
          "data": {
            "text/plain": [
              "array([6, 1, 1, 0, 0, 6, 1, 0, 5, 5, 0, 4, 6, 2, 0, 1, 6, 0, 3, 6, 5, 6,\n",
              "       1, 5, 5, 0, 3, 0, 0, 0, 3, 5, 5, 6, 0, 0, 3, 5, 5, 5, 6, 5, 4, 0,\n",
              "       5, 3, 0, 0, 0, 6, 3, 1, 6, 6, 1, 6, 0, 0, 6, 0, 6, 1, 6, 1, 6, 1,\n",
              "       6, 2, 0, 2, 6, 6, 5, 6, 0, 1, 0, 6, 5, 6, 6, 6, 5, 0, 5, 6, 5, 0,\n",
              "       2, 6, 0, 1, 3, 5, 0, 6, 0, 6, 3, 6, 1, 6, 3, 3, 1, 1, 6, 6, 6, 0,\n",
              "       1, 3, 5, 1, 3, 4, 5, 0, 3, 3, 1, 0, 1, 3, 1, 0, 6, 3, 5, 5, 6, 6,\n",
              "       6, 6, 6, 6, 6, 6, 5, 2, 6, 6, 3, 3, 3, 2, 0, 6, 0, 6, 5, 3, 5, 0,\n",
              "       3, 5, 2, 6, 2, 5, 0, 6, 6, 3, 2, 4, 2, 1, 0, 0, 4, 2, 3, 1, 6, 0,\n",
              "       4, 0, 1, 6, 2, 0, 1, 5, 6, 6, 3, 5, 1, 2, 1, 1, 6, 3, 5, 6, 6, 6,\n",
              "       5, 6, 6, 1, 0, 5, 0, 1, 5, 0, 5, 5, 5, 3, 1, 4, 2, 1, 6, 4, 1, 0,\n",
              "       2, 3, 5, 6, 5, 0, 0, 1, 6, 0, 0, 0, 0, 3, 2, 4, 4, 6, 1, 5, 5, 5,\n",
              "       5], dtype=int32)"
            ]
          },
          "execution_count": 17,
          "metadata": {
            "tags": []
          },
          "output_type": "execute_result"
        }
      ],
      "source": [
        "clusters"
      ]
    },
    {
      "cell_type": "code",
      "execution_count": null,
      "metadata": {
        "colab": {
          "base_uri": "https://localhost:8080/"
        },
        "id": "Lbvy4iOcdRLG",
        "outputId": "86dc9c95-c7a2-4904-fe1a-e763a38f71a9"
      },
      "outputs": [
        {
          "data": {
            "text/plain": [
              "True"
            ]
          },
          "execution_count": 18,
          "metadata": {
            "tags": []
          },
          "output_type": "execute_result"
        }
      ],
      "source": [
        "# Check if our predicted clusters is the same as our labels\n",
        "clusters is km.labels_"
      ]
    },
    {
      "cell_type": "code",
      "execution_count": null,
      "metadata": {
        "colab": {
          "base_uri": "https://localhost:8080/"
        },
        "id": "9yONXXIxdRLK",
        "outputId": "1256bb9c-b632-4c2f-98e8-ac0a9aeb73b9"
      },
      "outputs": [
        {
          "data": {
            "text/plain": [
              "array([[ -70.34407094,    9.8465647 ],\n",
              "       [  47.93853438,   28.52611853],\n",
              "       [ 156.84523619,   -7.98094281],\n",
              "       [ 103.45510325,   18.34838525],\n",
              "       [-164.167216  ,  -15.7990057 ],\n",
              "       [  20.38957626,  -11.53326343],\n",
              "       [   7.80604397,   44.17186475]])"
            ]
          },
          "execution_count": 19,
          "metadata": {
            "tags": []
          },
          "output_type": "execute_result"
        }
      ],
      "source": [
        "# Centroid /Center\n",
        "km.cluster_centers_"
      ]
    },
    {
      "cell_type": "code",
      "execution_count": null,
      "metadata": {
        "id": "5T9gywHMdRLP"
      },
      "outputs": [],
      "source": [
        "# store a map\n",
        "df['cluster_continents'] = clusters"
      ]
    },
    {
      "cell_type": "code",
      "execution_count": null,
      "metadata": {
        "colab": {
          "base_uri": "https://localhost:8080/",
          "height": 206
        },
        "id": "zah97IrddRLR",
        "outputId": "99ba5966-2c5e-4fd1-c70d-4ac4bce9db52"
      },
      "outputs": [
        {
          "data": {
            "text/html": [
              "<div>\n",
              "<style scoped>\n",
              "    .dataframe tbody tr th:only-of-type {\n",
              "        vertical-align: middle;\n",
              "    }\n",
              "\n",
              "    .dataframe tbody tr th {\n",
              "        vertical-align: top;\n",
              "    }\n",
              "\n",
              "    .dataframe thead th {\n",
              "        text-align: right;\n",
              "    }\n",
              "</style>\n",
              "<table border=\"1\" class=\"dataframe\">\n",
              "  <thead>\n",
              "    <tr style=\"text-align: right;\">\n",
              "      <th></th>\n",
              "      <th>country</th>\n",
              "      <th>latitude</th>\n",
              "      <th>longitude</th>\n",
              "      <th>name</th>\n",
              "      <th>cluster_continents</th>\n",
              "    </tr>\n",
              "  </thead>\n",
              "  <tbody>\n",
              "    <tr>\n",
              "      <th>0</th>\n",
              "      <td>AD</td>\n",
              "      <td>42.546245</td>\n",
              "      <td>1.601554</td>\n",
              "      <td>Andorra</td>\n",
              "      <td>6</td>\n",
              "    </tr>\n",
              "    <tr>\n",
              "      <th>1</th>\n",
              "      <td>AE</td>\n",
              "      <td>23.424076</td>\n",
              "      <td>53.847818</td>\n",
              "      <td>United Arab Emirates</td>\n",
              "      <td>1</td>\n",
              "    </tr>\n",
              "    <tr>\n",
              "      <th>2</th>\n",
              "      <td>AF</td>\n",
              "      <td>33.939110</td>\n",
              "      <td>67.709953</td>\n",
              "      <td>Afghanistan</td>\n",
              "      <td>1</td>\n",
              "    </tr>\n",
              "    <tr>\n",
              "      <th>3</th>\n",
              "      <td>AG</td>\n",
              "      <td>17.060816</td>\n",
              "      <td>-61.796428</td>\n",
              "      <td>Antigua and Barbuda</td>\n",
              "      <td>0</td>\n",
              "    </tr>\n",
              "    <tr>\n",
              "      <th>4</th>\n",
              "      <td>AI</td>\n",
              "      <td>18.220554</td>\n",
              "      <td>-63.068615</td>\n",
              "      <td>Anguilla</td>\n",
              "      <td>0</td>\n",
              "    </tr>\n",
              "  </tbody>\n",
              "</table>\n",
              "</div>"
            ],
            "text/plain": [
              "  country   latitude  longitude                  name  cluster_continents\n",
              "0      AD  42.546245   1.601554               Andorra                   6\n",
              "1      AE  23.424076  53.847818  United Arab Emirates                   1\n",
              "2      AF  33.939110  67.709953           Afghanistan                   1\n",
              "3      AG  17.060816 -61.796428   Antigua and Barbuda                   0\n",
              "4      AI  18.220554 -63.068615              Anguilla                   0"
            ]
          },
          "execution_count": 21,
          "metadata": {
            "tags": []
          },
          "output_type": "execute_result"
        }
      ],
      "source": [
        "df.head()"
      ]
    },
    {
      "cell_type": "code",
      "execution_count": null,
      "metadata": {
        "colab": {
          "base_uri": "https://localhost:8080/",
          "height": 283
        },
        "id": "jUNcX5rTdRLV",
        "outputId": "f0452174-fae1-4ad3-cf54-58a8ba0367de"
      },
      "outputs": [
        {
          "data": {
            "text/plain": [
              "<matplotlib.collections.PathCollection at 0x7fba3c085b10>"
            ]
          },
          "execution_count": 22,
          "metadata": {
            "tags": []
          },
          "output_type": "execute_result"
        },
        {
          "data": {
            "image/png": "[encoded data removed]",
            "text/plain": [
              "<Figure size 432x288 with 1 Axes>"
            ]
          },
          "metadata": {
            "tags": []
          },
          "output_type": "display_data"
        }
      ],
      "source": [
        "# Plot of our clusters\n",
        "plt.scatter(df['longitude'],df['latitude'], c= df['cluster_continents'], cmap= 'rainbow')"
      ]
    },
    {
      "cell_type": "code",
      "execution_count": null,
      "metadata": {
        "colab": {
          "base_uri": "https://localhost:8080/"
        },
        "id": "yDXs6auFedsL",
        "outputId": "44722c26-163a-4db6-8738-12763d1b4f79"
      },
      "outputs": [
        {
          "name": "stdout",
          "output_type": "stream",
          "text": [
            "Collecting geopandas\n",
            "\u001b[?25l  Downloading https://files.pythonhosted.org/packages/d7/bf/e9cefb69d39155d122b6ddca53893b61535fa6ffdad70bf5ef708977f53f/geopandas-0.9.0-py2.py3-none-any.whl (994kB)\n",
            "\u001b[K     |████████████████████████████████| 1.0MB 11.7MB/s \n",
            "\u001b[?25hRequirement already satisfied, skipping upgrade: pandas>=0.24.0 in /usr/local/lib/python3.7/dist-packages (from geopandas) (1.1.5)\n",
            "Requirement already satisfied, skipping upgrade: shapely>=1.6 in /usr/local/lib/python3.7/dist-packages (from geopandas) (1.7.1)\n",
            "Collecting pyproj>=2.2.0\n",
            "\u001b[?25l  Downloading https://files.pythonhosted.org/packages/b1/72/d52e9ca81caef056062d71991b0e9b1d16af042245627c5d0e4916a36c4f/pyproj-3.0.1-cp37-cp37m-manylinux2010_x86_64.whl (6.5MB)\n",
            "\u001b[K     |████████████████████████████████| 6.5MB 42.9MB/s \n",
            "\u001b[?25hCollecting fiona>=1.8\n",
            "\u001b[?25l  Downloading https://files.pythonhosted.org/packages/47/c2/67d1d0acbaaee3b03e5e22e3b96c33219cb5dd392531c9ff9cee7c2eb3e4/Fiona-1.8.18-cp37-cp37m-manylinux1_x86_64.whl (14.8MB)\n",
            "\u001b[K     |████████████████████████████████| 14.8MB 311kB/s \n",
            "\u001b[?25hRequirement already satisfied, skipping upgrade: pytz>=2017.2 in /usr/local/lib/python3.7/dist-packages (from pandas>=0.24.0->geopandas) (2018.9)\n",
            "Requirement already satisfied, skipping upgrade: python-dateutil>=2.7.3 in /usr/local/lib/python3.7/dist-packages (from pandas>=0.24.0->geopandas) (2.8.1)\n",
            "Requirement already satisfied, skipping upgrade: numpy>=1.15.4 in /usr/local/lib/python3.7/dist-packages (from pandas>=0.24.0->geopandas) (1.19.5)\n",
            "Requirement already satisfied, skipping upgrade: certifi in /usr/local/lib/python3.7/dist-packages (from pyproj>=2.2.0->geopandas) (2020.12.5)\n",
            "Requirement already satisfied, skipping upgrade: attrs>=17 in /usr/local/lib/python3.7/dist-packages (from fiona>=1.8->geopandas) (20.3.0)\n",
            "Collecting cligj>=0.5\n",
            "  Downloading https://files.pythonhosted.org/packages/42/1e/947eadf10d6804bf276eb8a038bd5307996dceaaa41cfd21b7a15ec62f5d/cligj-0.7.1-py3-none-any.whl\n",
            "Collecting click-plugins>=1.0\n",
            "  Downloading https://files.pythonhosted.org/packages/e9/da/824b92d9942f4e472702488857914bdd50f73021efea15b4cad9aca8ecef/click_plugins-1.1.1-py2.py3-none-any.whl\n",
            "Requirement already satisfied, skipping upgrade: six>=1.7 in /usr/local/lib/python3.7/dist-packages (from fiona>=1.8->geopandas) (1.15.0)\n",
            "Collecting munch\n",
            "  Downloading https://files.pythonhosted.org/packages/cc/ab/85d8da5c9a45e072301beb37ad7f833cd344e04c817d97e0cc75681d248f/munch-2.5.0-py2.py3-none-any.whl\n",
            "Requirement already satisfied, skipping upgrade: click<8,>=4.0 in /usr/local/lib/python3.7/dist-packages (from fiona>=1.8->geopandas) (7.1.2)\n",
            "Installing collected packages: pyproj, cligj, click-plugins, munch, fiona, geopandas\n",
            "Successfully installed click-plugins-1.1.1 cligj-0.7.1 fiona-1.8.18 geopandas-0.9.0 munch-2.5.0 pyproj-3.0.1\n",
            "Collecting pyshp\n",
            "\u001b[?25l  Downloading https://files.pythonhosted.org/packages/38/85/fbf87e7aa55103e0d06af756bdbc15cf821fa580414c23142d60a35d4f85/pyshp-2.1.3.tar.gz (219kB)\n",
            "\u001b[K     |████████████████████████████████| 225kB 12.3MB/s \n",
            "\u001b[?25hBuilding wheels for collected packages: pyshp\n",
            "  Building wheel for pyshp (setup.py) ... \u001b[?25l\u001b[?25hdone\n",
            "  Created wheel for pyshp: filename=pyshp-2.1.3-cp37-none-any.whl size=37264 sha256=c3283959a6b0299f484dd7c6ff115b3dd6a194b12196848cb1576d14cedf9baa\n",
            "  Stored in directory: /root/.cache/pip/wheels/76/2b/d4/53e6b9a0fb0a9f9f29664cf82605af8bc81d5ab44d987896dd\n",
            "Successfully built pyshp\n",
            "Installing collected packages: pyshp\n",
            "Successfully installed pyshp-2.1.3\n",
            "Requirement already up-to-date: shapely in /usr/local/lib/python3.7/dist-packages (1.7.1)\n",
            "Requirement already up-to-date: descartes in /usr/local/lib/python3.7/dist-packages (1.1.0)\n",
            "Requirement already satisfied, skipping upgrade: matplotlib in /usr/local/lib/python3.7/dist-packages (from descartes) (3.2.2)\n",
            "Requirement already satisfied, skipping upgrade: pyparsing!=2.0.4,!=2.1.2,!=2.1.6,>=2.0.1 in /usr/local/lib/python3.7/dist-packages (from matplotlib->descartes) (2.4.7)\n",
            "Requirement already satisfied, skipping upgrade: kiwisolver>=1.0.1 in /usr/local/lib/python3.7/dist-packages (from matplotlib->descartes) (1.3.1)\n",
            "Requirement already satisfied, skipping upgrade: python-dateutil>=2.1 in /usr/local/lib/python3.7/dist-packages (from matplotlib->descartes) (2.8.1)\n",
            "Requirement already satisfied, skipping upgrade: numpy>=1.11 in /usr/local/lib/python3.7/dist-packages (from matplotlib->descartes) (1.19.5)\n",
            "Requirement already satisfied, skipping upgrade: cycler>=0.10 in /usr/local/lib/python3.7/dist-packages (from matplotlib->descartes) (0.10.0)\n",
            "Requirement already satisfied, skipping upgrade: six>=1.5 in /usr/local/lib/python3.7/dist-packages (from python-dateutil>=2.1->matplotlib->descartes) (1.15.0)\n"
          ]
        }
      ],
      "source": [
        "!pip install --upgrade geopandas\n",
        "\n",
        "!pip install --upgrade pyshp\n",
        "\n",
        "!pip install --upgrade shapely\n",
        "\n",
        "!pip install --upgrade descartes"
      ]
    },
    {
      "cell_type": "code",
      "execution_count": null,
      "metadata": {
        "colab": {
          "background_save": true
        },
        "id": "nj4Mg1UAdRLY"
      },
      "outputs": [],
      "source": [
        " # Map our scatter plot over worldmap\n",
        "import geopandas as gpd\n",
        "from shapely.geometry import Point, Polygon\n",
        "import descartes"
      ]
    },
    {
      "cell_type": "code",
      "execution_count": null,
      "metadata": {
        "id": "fuOpjWwidRLb"
      },
      "outputs": [],
      "source": [
        "# World Map\n",
        "world = gpd.read_file(gp])"
      ]
    }
  ],
  "metadata": {
    "colab": {
      "provenance": [],
      "include_colab_link": true
    },
    "kernelspec": {
      "display_name": "Python 3",
      "language": "python",
      "name": "python3"
    },
    "language_info": {
      "codemirror_mode": {
        "name": "ipython",
        "version": 3
      },
      "file_extension": ".py",
      "mimetype": "text/x-python",
      "name": "python",
      "nbconvert_exporter": "python",
      "pygments_lexer": "ipython3",
      "version": "3.7.1"
    }
  },
  "nbformat": 4,
  "nbformat_minor": 0
}